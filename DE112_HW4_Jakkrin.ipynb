{
  "nbformat": 4,
  "nbformat_minor": 0,
  "metadata": {
    "colab": {
      "name": "DE112_HW4_Jakkrin",
      "provenance": []
    },
    "kernelspec": {
      "name": "python3",
      "display_name": "Python 3"
    },
    "language_info": {
      "name": "python"
    }
  },
  "cells": [
    {
      "cell_type": "markdown",
      "metadata": {
        "id": "YbGw0b1wufHU"
      },
      "source": [
        "# Homework"
      ]
    },
    {
      "cell_type": "markdown",
      "metadata": {
        "id": "fys4ft1n_8dT"
      },
      "source": [
        "1. Write code to compute polygon area according to the type of polygon\n",
        "  - Take input string named polygon_type from a user\n",
        "  - Take number of required inputs from a user\n",
        "  - Compute area of that polygon according to the given formula\n",
        "**Example**\n",
        "\n",
        "```\n",
        "Polygon type: Triangle\n",
        "Base: 2\n",
        "Height: 10\n",
        "Expected area of triangle: 10\n",
        "```\n",
        "\n",
        "\n",
        "```\n",
        "Polygon type: Rectangle\n",
        "Width: 20\n",
        "Length: 10\n",
        "Expected area of rectangle: 200 \n",
        "```\n",
        "\n"
      ]
    },
    {
      "cell_type": "code",
      "source": [
        "Polygon_type = input('Enter polygon type(Triangle,Rectangle,Square) : ')\n",
        "if Polygon_type == 'Triangle':\n",
        "  base = int(input('Base: '))\n",
        "  height = int(input('Height: '))\n",
        "  area = 0.5*(base*height)\n",
        "  print('Expected area of triangle: ',area)\n",
        "elif Polygon_type == 'Rectangle' or Polygon_type == 'Square':\n",
        "  width = int(input('Width: '))\n",
        "  length = int(input('length: '))\n",
        "  print('Expected area of square: ',width*length)\n",
        "else:\n",
        "  print('wrong input')"
      ],
      "metadata": {
        "id": "u37-KCymePEX",
        "colab": {
          "base_uri": "https://localhost:8080/"
        },
        "outputId": "5d583dac-5abc-4966-9355-d3c27c772641"
      },
      "execution_count": 1,
      "outputs": [
        {
          "output_type": "stream",
          "name": "stdout",
          "text": [
            "Enter polygon type(Triangle,Rectangle,Square) : Triangle\n",
            "Base: 20\n",
            "Height: 50\n",
            "Expected area of triangle:  500.0\n"
          ]
        }
      ]
    },
    {
      "cell_type": "markdown",
      "metadata": {
        "id": "p15zZtufA7o9"
      },
      "source": [
        "2. Write code to take purchase quantity from a user and compute the total purchase cost, according to the provided price chart.\n",
        "\n",
        "\n",
        "\n",
        "**Example**\n",
        "```\n",
        "Quantity: 1\n",
        "Expected total cost: 10\n",
        "```\n",
        "```\n",
        "Quantity: 5\n",
        "Expected total cost : 46.25\n",
        "```\n",
        "```\n",
        "Quantity: 10\n",
        "Expected total cost : 85.5\n",
        "```\n"
      ]
    },
    {
      "cell_type": "code",
      "source": [
        "quantity = int(input('Quantity: '))\n",
        "if 1 < quantity < 5:\n",
        "  print(\"Expected total cost : \",quantity*10)\n",
        "elif 5 < quantity <= 10:\n",
        "  print(\"Expected total cost : \",quantity*9.25)\n",
        "elif 10 < quantity <= 25:\n",
        "  print(\"Expected total cost : \",quantity*8.55)\n",
        "elif 25 < quantity <= 100:\n",
        "  print(\"Expected total cost : \",quantity*8.15)\n",
        "elif 100 < quantity <= 250:\n",
        "  print(\"Expected total cost : \",quantity*7.70)\n",
        "elif quantity < 250:\n",
        "  print(\"Expected total cost : \",quantity*7.30)\n",
        "else:\n",
        "  print('Error')"
      ],
      "metadata": {
        "colab": {
          "base_uri": "https://localhost:8080/"
        },
        "id": "UGbsS_XUfyW-",
        "outputId": "2dfd6720-8778-489e-d322-527348b173b4"
      },
      "execution_count": 2,
      "outputs": [
        {
          "output_type": "stream",
          "name": "stdout",
          "text": [
            "Quantity: 50\n",
            "Expected total cost :  407.5\n"
          ]
        }
      ]
    },
    {
      "cell_type": "markdown",
      "metadata": {
        "id": "bHd0Z_09CFsk"
      },
      "source": [
        "3. Write code to take calendar year from user and determine whether that is a leap year or not.\n",
        "\n",
        "***To be a leap year, the year number must be divisible by four – except for end-of-century years, which must be divisible by 400. This means that the year 2000 was a leap year, although 1900 was not. 2020, 2024 and 2028 are all leap years.\n",
        "\n",
        "**Example**\n",
        "```\n",
        "Calendar year: 1800\n",
        "Expected output: Not a leap year\n",
        "```\n",
        "```\n",
        "Calendar year: 1900\n",
        "Expected output: Not a leap year\n",
        "```\n",
        "```\n",
        "Calendar year: 2000\n",
        "Expected output: A leap year\n",
        "```\n",
        "```\n",
        "Calendar year: 2028\n",
        "Expected output: A leap year\n",
        "```\n"
      ]
    },
    {
      "cell_type": "code",
      "source": [
        "year = int(input('Calendar year: '))\n",
        "if year%4 != 0 :\n",
        "  print('Expected output: Not a leap year')\n",
        "elif year%100 == 0:\n",
        "  if year%400 == 0:\n",
        "    print('Expected output: A leap year') \n",
        "  else:\n",
        "    print('Expected output: Not leap year')\n",
        "else:\n",
        "  print('Expected output: A leap year')"
      ],
      "metadata": {
        "colab": {
          "base_uri": "https://localhost:8080/"
        },
        "id": "iHJIjUyniFUa",
        "outputId": "85ad85ae-3496-4a5d-b35a-5da2989a4cb0"
      },
      "execution_count": 8,
      "outputs": [
        {
          "output_type": "stream",
          "name": "stdout",
          "text": [
            "Calendar year: 2035\n",
            "Expected output: Not a leap year\n"
          ]
        }
      ]
    },
    {
      "cell_type": "code",
      "source": [],
      "metadata": {
        "id": "z0McNe5ak2sX"
      },
      "execution_count": null,
      "outputs": []
    }
  ]
}